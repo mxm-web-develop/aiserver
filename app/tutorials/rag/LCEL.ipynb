{
 "cells": [
  {
   "cell_type": "markdown",
   "metadata": {},
   "source": [
    "## LCEL\n",
    "The output of the previous runnable's .invoke() call is passed as input to the next runnable.\n",
    "like:\n",
    "`chain = prompt | model | StrOutputParser()`"
   ]
  },
  {
   "cell_type": "code",
   "execution_count": 1,
   "metadata": {},
   "outputs": [
    {
     "data": {
      "text/plain": [
       "ChatPromptValue(messages=[HumanMessage(content='tell me a joke about Dog')])"
      ]
     },
     "execution_count": 1,
     "metadata": {},
     "output_type": "execute_result"
    }
   ],
   "source": [
    "from langchain_core.prompts import ChatPromptTemplate\n",
    "\n",
    "prompt = ChatPromptTemplate.from_template(\"tell me a joke about {topic}\")\n",
    "prompt.invoke({\"topic\":\"Dog\"})"
   ]
  },
  {
   "cell_type": "markdown",
   "metadata": {},
   "source": [
    "We can even combine this chain with more runnables to create another chain. \n",
    "`analysis_prompt = ChatPromptTemplate.from_template(\"is this a funny joke? {joke}\")`\n",
    "`composed_chain = {\"joke\": chain} | analysis_prompt | model | StrOutputParser()`\n",
    "\n",
    "lecl 其实也可以这样写\n",
    "```python\n",
    "from langchain_core.runnables import RunnableParallel\n",
    "\n",
    "composed_chain_with_pipe = (\n",
    "    RunnableParallel({\"joke\": chain})\n",
    "    .pipe(analysis_prompt)\n",
    "    .pipe(model)\n",
    "    .pipe(StrOutputParser())\n",
    ")\n",
    "```\n",
    "或者这样\n",
    "```python\n",
    "composed_chain_with_pipe = RunnableParallel({\"joke\": chain}).pipe(\n",
    "    analysis_prompt, model, StrOutputParser()\n",
    ")\n",
    "```\n",
    "\n"
   ]
  },
  {
   "cell_type": "markdown",
   "metadata": {},
   "source": [
    "astream 是异步的打字机，等待完成后才输出\n",
    "stream 是同步打字机"
   ]
  },
  {
   "cell_type": "code",
   "execution_count": 2,
   "metadata": {},
   "outputs": [
    {
     "name": "stdout",
     "output_type": "stream",
     "text": [
      "\n",
      "The\n",
      " color\n",
      " of\n",
      " the\n",
      " sky\n",
      " can\n",
      " vary\n",
      " depending\n",
      " on\n",
      " the\n",
      " time\n",
      " of\n",
      " day\n",
      " and\n",
      " weather\n",
      " conditions\n",
      ".\n",
      " During\n",
      " the\n",
      " day\n",
      ",\n",
      " the\n",
      " sky\n",
      " is\n",
      " typically\n",
      " blue\n",
      ",\n",
      " but\n",
      " it\n",
      " can\n",
      " also\n",
      " appear\n",
      " pink\n",
      ",\n",
      " orange\n",
      ",\n",
      " or\n",
      " purple\n",
      " during\n",
      " sunrise\n",
      " and\n",
      " sunset\n",
      ".\n",
      " At\n",
      " night\n",
      ",\n",
      " the\n",
      " sky\n",
      " appears\n",
      " dark\n",
      " blue\n",
      " or\n",
      " black\n",
      " with\n",
      " stars\n",
      " and\n",
      " sometimes\n",
      " the\n",
      " moon\n",
      " visible\n",
      ".\n",
      "\n"
     ]
    },
    {
     "ename": "",
     "evalue": "",
     "output_type": "error",
     "traceback": [
      "\u001b[1;31m在当前单元格或上一个单元格中执行代码时 Kernel 崩溃。\n",
      "\u001b[1;31m请查看单元格中的代码，以确定故障的可能原因。\n",
      "\u001b[1;31m单击<a href='https://aka.ms/vscodeJupyterKernelCrash'>此处</a>了解详细信息。\n",
      "\u001b[1;31m有关更多详细信息，请查看 Jupyter <a href='command:jupyter.viewOutput'>log</a>。"
     ]
    }
   ],
   "source": [
    "from dotenv import load_dotenv\n",
    "import os\n",
    "load_dotenv()\n",
    "api_key = os.getenv(\"OPENAI_API_KEY\")\n",
    "from langchain_openai import ChatOpenAI\n",
    "\n",
    "model = ChatOpenAI(model=\"gpt-3.5-turbo-0125\",api_key=api_key)\n",
    "chunks = []\n",
    "for chunk in model.stream(\"what color is the sky?\"):\n",
    "    chunks.append(chunk)\n",
    "    print(chunk.content, flush=True)"
   ]
  },
  {
   "cell_type": "markdown",
   "metadata": {},
   "source": [
    "## 保存向量数据到磁盘\n",
    "```python\n",
    "vectorstore = Chroma.from_texts(texts, embedding=embeddings)\n",
    "save_path = \"path_to_save_vectorstore\"\n",
    "# 保存 vectorstore 到磁盘\n",
    "vectorstore.save(save_path)\n",
    "\n",
    "# # 重新加载 vectorstore\n",
    "\n",
    "try:\n",
    "    vectorstore = Chroma.load(save_path)\n",
    "    print(\"Loaded vectorstore from disk.\")\n",
    "except FileNotFoundError:\n",
    "    print(\"No saved vectorstore found. Creating a new one.\")\n",
    "    texts = [\"harrison worked at kensho\", \"harrison likes spicy food\"]\n",
    "    embeddings = OpenAIEmbeddings(api_key=api_key)\n",
    "    vectorstore = Chroma.from_texts(texts, embedding=embeddings)\n",
    "    vectorstore.save(save_path)\n",
    "    print(\"Saved new vectorstore to disk.\")\n",
    "\n",
    "# 创建 retriever\n",
    "retriever = vectorstore.as_retriever()\n",
    "\n",
    "# 使用 retriever\n",
    "response = retriever.invoke('where did harrison work?')\n",
    "```\n"
   ]
  },
  {
   "cell_type": "code",
   "execution_count": null,
   "metadata": {},
   "outputs": [],
   "source": [
    "from langchain_community.vectorstores import Chroma\n",
    "from langchain_core.output_parsers import StrOutputParser\n",
    "from langchain_core.prompts import ChatPromptTemplate\n",
    "from langchain_core.runnables import RunnablePassthrough\n",
    "from langchain_openai import OpenAIEmbeddings\n",
    "template = \"\"\"Answer the question based only on the following context:\n",
    "{context}\n",
    "\n",
    "Question: {question}\n",
    "\"\"\"\n",
    "prompt = ChatPromptTemplate.from_template(template)\n",
    "\n",
    "vectorstore = Chroma.from_texts(\n",
    "    [\"harrison worked at kensho\", \"harrison likes spicy food\"],\n",
    "    embedding=OpenAIEmbeddings(api_key=api_key),\n",
    ")\n",
    "retriever = vectorstore.as_retriever()\n",
    "\n",
    "retriever.invoke('where did harrison work?')"
   ]
  },
  {
   "cell_type": "code",
   "execution_count": 11,
   "metadata": {},
   "outputs": [
    {
     "name": "stdout",
     "output_type": "stream",
     "text": [
      "{'event': 'on_tool_start', 'data': {'input': 'hello'}, 'name': 'bad_tool', 'tags': [], 'run_id': 'ca771aad-2e2c-4c9a-886b-2620a4d4a467', 'metadata': {}, 'parent_ids': []}\n",
      "{'event': 'on_chain_start', 'data': {'input': 'hello'}, 'name': 'reverse_word', 'tags': [], 'run_id': '172b12e2-5c8f-48e9-b037-aff7bd0a0101', 'metadata': {}, 'parent_ids': ['ca771aad-2e2c-4c9a-886b-2620a4d4a467']}\n",
      "{'event': 'on_chain_end', 'data': {'output': 'olleh', 'input': 'hello'}, 'run_id': '172b12e2-5c8f-48e9-b037-aff7bd0a0101', 'name': 'reverse_word', 'tags': [], 'metadata': {}, 'parent_ids': ['ca771aad-2e2c-4c9a-886b-2620a4d4a467']}\n",
      "{'event': 'on_tool_end', 'data': {'output': 'olleh'}, 'run_id': 'ca771aad-2e2c-4c9a-886b-2620a4d4a467', 'name': 'bad_tool', 'tags': [], 'metadata': {}, 'parent_ids': []}\n",
      "{'event': 'on_tool_start', 'data': {'input': 'hello'}, 'name': 'correct_tool', 'tags': [], 'run_id': '4fca6351-b46b-40b1-b04c-209ea78a0ee0', 'metadata': {}, 'parent_ids': []}\n",
      "{'event': 'on_chain_start', 'data': {'input': 'hello'}, 'name': 'reverse_word', 'tags': [], 'run_id': 'b880c5b6-be89-4354-be77-f1c95168e0f4', 'metadata': {}, 'parent_ids': ['4fca6351-b46b-40b1-b04c-209ea78a0ee0']}\n",
      "{'event': 'on_chain_end', 'data': {'output': 'olleh', 'input': 'hello'}, 'run_id': 'b880c5b6-be89-4354-be77-f1c95168e0f4', 'name': 'reverse_word', 'tags': [], 'metadata': {}, 'parent_ids': ['4fca6351-b46b-40b1-b04c-209ea78a0ee0']}\n",
      "{'event': 'on_tool_end', 'data': {'output': 'olleh'}, 'run_id': '4fca6351-b46b-40b1-b04c-209ea78a0ee0', 'name': 'correct_tool', 'tags': [], 'metadata': {}, 'parent_ids': []}\n"
     ]
    }
   ],
   "source": [
    "from langchain_core.tools import tool\n",
    "from langchain_core.runnables import RunnableLambda\n",
    "\n",
    "def reverse_word(word: str):\n",
    "    return word[::-1]\n",
    "\n",
    "reverse_word = RunnableLambda(reverse_word)\n",
    "\n",
    "# @tool\n",
    "# def bad_tool(word: str):\n",
    "#     \"\"\"Custom tool that doesn't propagate callbacks.\"\"\"\n",
    "#     return reverse_word.invoke(word)\n",
    "\n",
    "\n",
    "# async for event in bad_tool.astream_events(\"hello\", version=\"v2\"):\n",
    "#     print(event)\n",
    "\n",
    "\n",
    "@tool\n",
    "def correct_tool(word: str, callbacks):\n",
    "    \"\"\"A tool that correctly propagates callbacks.\"\"\"\n",
    "    return reverse_word.invoke(word, {\"callbacks\": callbacks})\n",
    "\n",
    "\n",
    "async for event in correct_tool.astream_events(\"hello\", version=\"v2\"):\n",
    "    print(event)"
   ]
  },
  {
   "cell_type": "code",
   "execution_count": 12,
   "metadata": {},
   "outputs": [
    {
     "name": "stdout",
     "output_type": "stream",
     "text": [
      "{'event': 'on_chain_start', 'data': {'input': '1234'}, 'name': 'reverse_and_double', 'tags': [], 'run_id': '3dd63972-4fea-4096-8313-d8bf92ccfa8a', 'metadata': {}, 'parent_ids': []}\n",
      "{'event': 'on_chain_start', 'data': {'input': '1234'}, 'name': 'reverse_word', 'tags': [], 'run_id': '88f70cf8-cc6e-466d-917c-183e056b3734', 'metadata': {}, 'parent_ids': ['3dd63972-4fea-4096-8313-d8bf92ccfa8a']}\n",
      "{'event': 'on_chain_end', 'data': {'output': '4321', 'input': '1234'}, 'run_id': '88f70cf8-cc6e-466d-917c-183e056b3734', 'name': 'reverse_word', 'tags': [], 'metadata': {}, 'parent_ids': ['3dd63972-4fea-4096-8313-d8bf92ccfa8a']}\n",
      "{'event': 'on_chain_stream', 'run_id': '3dd63972-4fea-4096-8313-d8bf92ccfa8a', 'name': 'reverse_and_double', 'tags': [], 'metadata': {}, 'data': {'chunk': '43214321'}, 'parent_ids': []}\n",
      "{'event': 'on_chain_end', 'data': {'output': '43214321'}, 'run_id': '3dd63972-4fea-4096-8313-d8bf92ccfa8a', 'name': 'reverse_and_double', 'tags': [], 'metadata': {}, 'parent_ids': []}\n"
     ]
    }
   ],
   "source": [
    "from langchain_core.runnables import chain\n",
    "\n",
    "\n",
    "@chain\n",
    "async def reverse_and_double(word: str):\n",
    "    return await reverse_word.ainvoke(word) * 2\n",
    "\n",
    "await reverse_and_double.ainvoke(\"1234\")\n",
    "\n",
    "async for event in reverse_and_double.astream_events(\"1234\", version=\"v2\"):\n",
    "    print(event)\n",
    "\n"
   ]
  },
  {
   "cell_type": "markdown",
   "metadata": {},
   "source": []
  }
 ],
 "metadata": {
  "kernelspec": {
   "display_name": "aiservice-hoM4jAU4-py3.11",
   "language": "python",
   "name": "python3"
  },
  "language_info": {
   "codemirror_mode": {
    "name": "ipython",
    "version": 3
   },
   "file_extension": ".py",
   "mimetype": "text/x-python",
   "name": "python",
   "nbconvert_exporter": "python",
   "pygments_lexer": "ipython3",
   "version": "3.11.6"
  }
 },
 "nbformat": 4,
 "nbformat_minor": 2
}
